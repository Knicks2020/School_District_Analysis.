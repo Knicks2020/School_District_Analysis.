{
 "cells": [
  {
   "cell_type": "code",
   "execution_count": null,
   "id": "38e50a48-bac2-428b-b5f0-2ecafa7d5f70",
   "metadata": {},
   "outputs": [],
   "source": [
    "#Adding Panda import\n",
    "import pandas as pd\n",
    "import os"
   ]
  },
  {
   "cell_type": "code",
   "execution_count": null,
   "id": "132172c9-e9a1-4f2e-9466-03e37f793aeb",
   "metadata": {},
   "outputs": [],
   "source": [
    "# Dependencies and Setup\n",
    "import pandas as pd\n",
    "\n",
    "# File to Load (Remember to change the path if needed.)\n",
    "school_data_to_load = \"Resources/schools_complete.csv\"\n",
    "student_data_to_load = \"Resources/students_complete.csv\"\n",
    "\n",
    "# Read the School Data and Student Data and store into a Pandas DataFrame\n",
    "school_data_df = pd.read_csv(school_data_to_load)\n",
    "student_data_df = pd.read_csv(student_data_to_load)\n",
    "\n",
    "# Cleaning Student Names and Replacing Substrings in a Python String\n",
    "# Add each prefix and suffix to remove to a list.\n",
    "prefixes_suffixes = [\"Dr. \", \"Mr. \",\"Ms. \", \"Mrs. \", \"Miss \", \" MD\", \" DDS\", \" DVM\", \" PhD\"]\n",
    "\n",
    "# Iterate through the words in the \"prefixes_suffixes\" list and replace them with an empty space, \"\".\n",
    "for word in prefixes_suffixes:\n",
    "    student_data_df[\"student_name\"] = student_data_df[\"student_name\"].str.replace(word,\"\")\n",
    "\n",
    "# Check names.\n",
    "#student_data_df.head(10)"
   ]
  },
  {
   "cell_type": "code",
   "execution_count": null,
   "id": "a2c9dc5d-3e29-4766-9cf6-f2d744ee2a13",
   "metadata": {},
   "outputs": [],
   "source": [
    "#files to import\n",
    "school_data_to_load = os.path.join(\"Resources/schools_complete.csv\")\n",
    "student_data_to_load = os.path.join(\"Resources/students_complete.csv\")"
   ]
  },
  {
   "cell_type": "code",
   "execution_count": null,
   "id": "51562cea-bd9d-46e9-b077-f6e74e7bd55d",
   "metadata": {},
   "outputs": [],
   "source": [
    "# Read the school data file and store it in a Pandas DataFrame.\n",
    "school_data_df = pd.read_csv(school_data_to_load)\n",
    "school_data_df.head()"
   ]
  },
  {
   "cell_type": "code",
   "execution_count": null,
   "id": "b0514b34-22c2-4632-b1d2-3792652568b7",
   "metadata": {},
   "outputs": [],
   "source": [
    "# Read the student data file and store it in a Pandas DataFrame.\n",
    "student_data_df = pd.read_csv(student_data_to_load)\n",
    "#student_data_df.head()"
   ]
  },
  {
   "cell_type": "code",
   "execution_count": null,
   "id": "c4c70979-1c21-4bfc-855c-997bf3fc3e1e",
   "metadata": {},
   "outputs": [],
   "source": [
    "# Determine if there are any missing values in the school data.\n",
    "school_data_df"
   ]
  },
  {
   "cell_type": "code",
   "execution_count": null,
   "id": "66915778-779e-4136-8f37-c126ba5d0700",
   "metadata": {},
   "outputs": [],
   "source": [
    "# Determine if there are any missing values in the student data.\n",
    "#student_data_df.count()"
   ]
  },
  {
   "cell_type": "code",
   "execution_count": null,
   "id": "6fd65898-d11c-4eeb-8a0c-1a8a1814f697",
   "metadata": {},
   "outputs": [],
   "source": [
    "# Determine if there are any missing values in the school data.\n",
    "#school_data_df.isnull()"
   ]
  },
  {
   "cell_type": "code",
   "execution_count": null,
   "id": "992256c4-2acc-4d7a-91c1-c9b527d74f9e",
   "metadata": {},
   "outputs": [],
   "source": [
    "# Determine if there are any missing values in the student data.\n",
    "#student_data_df.isnull()"
   ]
  },
  {
   "cell_type": "code",
   "execution_count": null,
   "id": "57ec5c92-780d-46b9-b3bd-d475205725e7",
   "metadata": {},
   "outputs": [],
   "source": [
    "# Determine if there are any missing values in the student data.\n",
    "#student_data_df.isnull().sum()\n"
   ]
  },
  {
   "cell_type": "code",
   "execution_count": null,
   "id": "4957576a-9ae4-44d1-a5be-a8286e1aae78",
   "metadata": {},
   "outputs": [],
   "source": [
    "# Determine if there are not any missing values in the school data.\n",
    "#school_data_df.notnull()"
   ]
  },
  {
   "cell_type": "code",
   "execution_count": null,
   "id": "a4e9c6f7-5905-4bda-b823-cff9c53a0af8",
   "metadata": {},
   "outputs": [],
   "source": [
    "# Determine if there are not any missing values in the student data.\n",
    "#student_data_df.notnull().sum()"
   ]
  },
  {
   "cell_type": "code",
   "execution_count": null,
   "id": "0ca5e91b-298c-4e2c-9639-77056ffa20ed",
   "metadata": {},
   "outputs": [],
   "source": [
    "# Add each prefix and suffix to remove to a list.\n",
    "prefixes_suffixes = [\"Dr. \", \"Mr. \",\"Ms. \", \"Mrs. \", \"Miss \", \" MD\", \" DDS\", \" DVM\", \" PhD\"]"
   ]
  },
  {
   "cell_type": "code",
   "execution_count": null,
   "id": "fa6bef86-8ea6-4dfa-8848-edcbcb1e11fb",
   "metadata": {},
   "outputs": [],
   "source": [
    "# Iterate through the words in the \"prefixes_suffixes\" list and replace them with an empty space, \"\".\n",
    "for word in prefixes_suffixes:\n",
    "    student_data_df[\"student_name\"] = student_data_df[\"student_name\"].str.replace(word,\"\")\n",
    "    \n",
    "#student_data_df.head(10)"
   ]
  },
  {
   "cell_type": "code",
   "execution_count": null,
   "id": "68480066-6c8c-4f47-9faa-a5c9849947b9",
   "metadata": {},
   "outputs": [],
   "source": [
    "#school_data_complete_df"
   ]
  },
  {
   "cell_type": "code",
   "execution_count": null,
   "id": "13fc7ca9-6025-4e97-8be5-31f9a5cc50d8",
   "metadata": {},
   "outputs": [],
   "source": [
    "# Combine the data into a single dataset.\n",
    "school_data_complete_df = pd.merge(student_data_df, school_data_df, on=[\"school_name\", \"school_name\"])\n",
    "school_data_complete_df"
   ]
  },
  {
   "cell_type": "code",
   "execution_count": null,
   "id": "de351889-e33c-4519-b820-fcf752ac9c8f",
   "metadata": {},
   "outputs": [],
   "source": [
    "# Combine the data into a single dataset.\n",
    "school_data_complete_df = pd.merge(student_data_df, school_data_df, on=[\"school_name\", \"school_name\"])\n",
    "school_data_complete_df.head()"
   ]
  },
  {
   "cell_type": "code",
   "execution_count": null,
   "id": "45ca452a-37dc-46df-9977-e77d98551800",
   "metadata": {},
   "outputs": [],
   "source": [
    "# Get the total number of students.\n",
    "student_count = school_data_complete_df.count()\n",
    "#student_count"
   ]
  },
  {
   "cell_type": "code",
   "execution_count": null,
   "id": "a3f5181c-4a97-4601-ae97-92d56ac0adc4",
   "metadata": {},
   "outputs": [],
   "source": [
    "# Get the total number of students.\n",
    "student_count = school_data_complete_df[\"Student ID\"].count()\n",
    "#student_count"
   ]
  },
  {
   "cell_type": "code",
   "execution_count": null,
   "id": "5ab2ec16-9570-4fd7-a893-7998545839c9",
   "metadata": {},
   "outputs": [],
   "source": [
    "# Calculate the total number of schools.\n",
    "school_count = school_data_df[\"school_name\"].count()\n",
    "school_count"
   ]
  },
  {
   "cell_type": "code",
   "execution_count": null,
   "id": "fae5d553-db5e-4105-90fe-2388aad9259e",
   "metadata": {},
   "outputs": [],
   "source": [
    "# Calculate the total number of schools\n",
    "school_count_2 = school_data_complete_df[\"school_name\"].unique()\n",
    "#school_count_2"
   ]
  },
  {
   "cell_type": "code",
   "execution_count": null,
   "id": "482e5d81-a8d1-4c31-8313-70f520a99adc",
   "metadata": {},
   "outputs": [],
   "source": [
    "#len(school_data_complete_df[\"school_name\"].unique())"
   ]
  },
  {
   "cell_type": "code",
   "execution_count": null,
   "id": "292728b0-0d5d-4d3f-93b2-8b7b198087a6",
   "metadata": {},
   "outputs": [],
   "source": [
    "# Calculate the total budget. Verify against the sum in the csv file\n",
    "total_budget = school_data_df[\"budget\"].sum()\n",
    "#total_budget"
   ]
  },
  {
   "cell_type": "code",
   "execution_count": null,
   "id": "44cca59b-fbd6-4d58-a3e2-f2db71094bbc",
   "metadata": {},
   "outputs": [],
   "source": [
    "# Calculate the average reading score.\n",
    "average_reading_score = school_data_complete_df[\"reading_score\"].mean()\n",
    "#average_reading_score"
   ]
  },
  {
   "cell_type": "code",
   "execution_count": null,
   "id": "8b289dc5-2a85-45ed-9261-c8ef11e4b1fc",
   "metadata": {},
   "outputs": [],
   "source": [
    "# Calculate the average math score.\n",
    "average_math_score = school_data_complete_df[\"math_score\"].mean()\n",
    "#average_math_score\n"
   ]
  },
  {
   "cell_type": "code",
   "execution_count": null,
   "id": "3f14cc97-2c79-4636-973b-11a3aa63385f",
   "metadata": {},
   "outputs": [],
   "source": [
    "passing_math = school_data_complete_df[\"math_score\"] >= 70\n",
    "passing_reading = school_data_complete_df[\"reading_score\"] >= 70"
   ]
  },
  {
   "cell_type": "code",
   "execution_count": null,
   "id": "7f41951b-1b12-4e8c-b06f-04d8648a326f",
   "metadata": {},
   "outputs": [],
   "source": [
    "# Get all the students who are passing math in a new DataFrame.\n",
    "passing_math = school_data_complete_df[school_data_complete_df[\"math_score\"] >= 70]\n",
    "passing_math.head(5)"
   ]
  },
  {
   "cell_type": "code",
   "execution_count": null,
   "id": "183b5341-6d5d-4439-ac4d-9aa6f2a9fe4a",
   "metadata": {},
   "outputs": [],
   "source": [
    "# Get all the students that are passing reading in a new DataFrame.\n",
    "passing_reading = school_data_complete_df[school_data_complete_df[\"reading_score\"] >= 70]\n",
    "passing_reading.head()"
   ]
  },
  {
   "cell_type": "code",
   "execution_count": null,
   "id": "38ea9cfc-aa6d-4309-807e-3fecbfdc8a2d",
   "metadata": {},
   "outputs": [],
   "source": [
    "len(passing_math)"
   ]
  },
  {
   "cell_type": "code",
   "execution_count": null,
   "id": "e38ba630-6df1-4f87-8816-3c024ebfa4fc",
   "metadata": {},
   "outputs": [],
   "source": [
    "passing_math[\"student_name\"].count()"
   ]
  },
  {
   "cell_type": "code",
   "execution_count": null,
   "id": "17e5cbf1-f41e-4c6a-bda7-badf9843e39e",
   "metadata": {},
   "outputs": [],
   "source": [
    "# Calculate the number of students passing math.\n",
    "passing_math_count = passing_math[\"student_name\"].count()\n",
    "\n",
    "# Calculate the number of students passing reading.\n",
    "passing_reading_count = passing_reading[\"student_name\"].count()\n",
    "#print(passing_math_count)\n",
    "#print(passing_reading_count)"
   ]
  },
  {
   "cell_type": "code",
   "execution_count": null,
   "id": "631d2653-adcd-4ff6-839b-e9ea99aeb207",
   "metadata": {},
   "outputs": [],
   "source": [
    "# Calculate the percent that passed math.\n",
    "passing_math_percentage = passing_math_count / float(student_count) * 100\n",
    "\n",
    "# Calculate the percent that passed reading.\n",
    "passing_reading_percentage = passing_reading_count / float(student_count) * 100"
   ]
  },
  {
   "cell_type": "code",
   "execution_count": null,
   "id": "d661ddd5-d0aa-43fc-8fce-234359323786",
   "metadata": {},
   "outputs": [],
   "source": [
    "# Calculate the students who passed both math and reading.\n",
    "passing_math_reading = school_data_complete_df[(school_data_complete_df[\"math_score\"] >= 70) & (school_data_complete_df[\"reading_score\"] >= 70)]\n",
    "\n",
    "#passing_math_reading.head()"
   ]
  },
  {
   "cell_type": "code",
   "execution_count": null,
   "id": "3969052e-d979-468a-8386-5c8cc54205b9",
   "metadata": {},
   "outputs": [],
   "source": [
    "#passing_math_reading.student_name.count()\n",
    "school_data_complete_df"
   ]
  },
  {
   "cell_type": "code",
   "execution_count": null,
   "id": "46fe1eb7-a46e-476b-a980-0e633f59d0ef",
   "metadata": {},
   "outputs": [],
   "source": [
    "# Calculate the number of students who passed both math and reading.\n",
    "overall_passing_math_reading_count = passing_math_reading[\"student_name\"].count()\n",
    "#overall_passing_math_reading_count"
   ]
  },
  {
   "cell_type": "code",
   "execution_count": null,
   "id": "55fe4f29-8730-4e91-b872-b20345eef939",
   "metadata": {},
   "outputs": [],
   "source": [
    "# Calculate the overall passing percentage.\n",
    "overall_passing_percentage = overall_passing_math_reading_count / student_count * 100\n",
    "#overall_passing_percentage"
   ]
  },
  {
   "cell_type": "code",
   "execution_count": null,
   "id": "4792443e-1452-4672-914f-499b7a184bb8",
   "metadata": {},
   "outputs": [],
   "source": [
    "# Adding a list of values with keys to create a new DataFrame.\n",
    "district_summary_df = pd.DataFrame(\n",
    "          [{\"Total Schools\": school_count,\n",
    "          \"Total Students\": student_count,\n",
    "          \"Total Budget\": total_budget,\n",
    "          \"Average Math Score\": average_math_score,\n",
    "          \"Average Reading Score\": average_reading_score,\n",
    "          \"% Passing Math\": passing_math_percentage,\n",
    "         \"% Passing Reading\": passing_reading_percentage,\n",
    "        \"% Overall Passing\": overall_passing_percentage}])\n",
    "district_summary_df"
   ]
  },
  {
   "cell_type": "code",
   "execution_count": null,
   "id": "01a8552c-9f2b-4292-8aa8-fd9e60ec6317",
   "metadata": {},
   "outputs": [],
   "source": [
    "# Format the \"Total Students\" to have the comma for a thousands separator.\n",
    "district_summary_df[\"Total Students\"] = district_summary_df[\"Total Students\"].map(\"{:,}\".format)\n",
    "\n",
    "#district_summary_df[\"Total Students\"]"
   ]
  },
  {
   "cell_type": "code",
   "execution_count": null,
   "id": "8f088acb-64fe-483d-b426-8216b64691dc",
   "metadata": {},
   "outputs": [],
   "source": [
    "# Format \"Total Budget\" to have the comma for a thousands separator, a decimal separator, and a \"$\".\n",
    "district_summary_df[\"Total Budget\"] = district_summary_df[\"Total Budget\"].map(\"${:,.2f}\".format)\n",
    "\n",
    "#district_summary_df[\"Total Budget\"]"
   ]
  },
  {
   "cell_type": "code",
   "execution_count": null,
   "id": "dc95c20b-4f08-4e4b-bcb3-dd884c982e0b",
   "metadata": {},
   "outputs": [],
   "source": [
    "# Format the columns.\n",
    "district_summary_df[\"Average Math Score\"] = district_summary_df[\"Average Math Score\"].map(\"{:.1f}\".format)\n",
    "\n",
    "district_summary_df[\"Average Reading Score\"] = district_summary_df[\"Average Reading Score\"].map(\"{:.1f}\".format)\n",
    "\n",
    "district_summary_df[\"% Passing Math\"] = district_summary_df[\"% Passing Math\"].map(\"{:.0f}\".format)\n",
    "\n",
    "district_summary_df[\"% Passing Reading\"] = district_summary_df[\"% Passing Reading\"].map(\"{:.0f}\".format)\n",
    "\n",
    "district_summary_df[\"% Overall Passing\"] = district_summary_df[\"% Overall Passing\"].map(\"{:.0f}\".format)"
   ]
  },
  {
   "cell_type": "code",
   "execution_count": null,
   "id": "ab12a932-b5a5-4284-a310-f4e45fcf03df",
   "metadata": {},
   "outputs": [],
   "source": [
    "# Reorder the columns in the order you want them to appear.\n",
    "new_column_order = [\"Total Schools\", \"Total Students\", \"Total Budget\",\"Average Math Score\", \"Average Reading Score\", \"% Passing Math\", \"% Passing Reading\", \"% Overall Passing\"]\n",
    "\n",
    "# Assign district summary df the new column order.\n",
    "district_summary_df = district_summary_df[new_column_order]\n",
    "#district_summary_df"
   ]
  },
  {
   "cell_type": "code",
   "execution_count": null,
   "id": "caaab42b-4a46-4447-b11c-41c80a5ecbb6",
   "metadata": {},
   "outputs": [],
   "source": [
    "# Determine the school type.\n",
    "per_school_types = school_data_df.set_index([\"school_name\"])[\"type\"]\n",
    "#per_school_types"
   ]
  },
  {
   "cell_type": "code",
   "execution_count": null,
   "id": "078464c1-9f8e-468d-986a-d7957262984f",
   "metadata": {},
   "outputs": [],
   "source": [
    "# Add the per_school_types into a DataFrame for testing.\n",
    "df = pd.DataFrame(per_school_types)\n",
    "#df"
   ]
  },
  {
   "cell_type": "code",
   "execution_count": null,
   "id": "1b99ea73-098c-4033-ac13-d644dcd7a233",
   "metadata": {},
   "outputs": [],
   "source": [
    "# Calculate the total student count.\n",
    "per_school_counts = school_data_df[\"size\"]\n",
    "#per_school_counts"
   ]
  },
  {
   "cell_type": "code",
   "execution_count": null,
   "id": "6d88945f-c70c-4c58-88e0-4e97e383719b",
   "metadata": {},
   "outputs": [],
   "source": [
    "# Calculate the total student count.\n",
    "per_school_counts = school_data_df.set_index([\"school_name\"])[\"size\"]\n",
    "#per_school_counts"
   ]
  },
  {
   "cell_type": "code",
   "execution_count": null,
   "id": "4e05d8d1-13e4-4a07-ac3c-856baa71931f",
   "metadata": {},
   "outputs": [],
   "source": [
    "# Calculate the total student count.\n",
    "per_school_counts = school_data_complete_df[\"school_name\"].value_counts()\n",
    "#per_school_counts"
   ]
  },
  {
   "cell_type": "code",
   "execution_count": null,
   "id": "b02b5248-fcfb-4474-a77b-19622e58f9e5",
   "metadata": {},
   "outputs": [],
   "source": [
    "# Calculate the total school budget.\n",
    "per_school_budget = school_data_df.set_index([\"school_name\"])[\"budget\"]\n",
    "#per_school_budget"
   ]
  },
  {
   "cell_type": "code",
   "execution_count": null,
   "id": "612edcc3-2f09-4f2a-bdd8-d1583ecb657f",
   "metadata": {},
   "outputs": [],
   "source": [
    "budget_per_student = per_school_budget / per_school_counts\n",
    "#budget_per_student"
   ]
  },
  {
   "cell_type": "code",
   "execution_count": null,
   "id": "3375e321-b060-4718-994d-7b2c641fb69f",
   "metadata": {},
   "outputs": [],
   "source": [
    "# Calculate the math scores.\n",
    "student_school_math = student_data_df.set_index([\"school_name\"])[\"math_score\"]\n",
    "#student_school_math"
   ]
  },
  {
   "cell_type": "code",
   "execution_count": null,
   "id": "ea5a503a-4324-429e-bbcb-f4f1f763b7f8",
   "metadata": {},
   "outputs": [],
   "source": [
    "# Calculate the average math scores.\n",
    "per_school_averages = school_data_complete_df.groupby([\"school_name\"]).mean()\n",
    "#per_school_averages"
   ]
  },
  {
   "cell_type": "code",
   "execution_count": null,
   "id": "f2386897-2fd9-445b-9e44-54b95330b1ab",
   "metadata": {},
   "outputs": [],
   "source": [
    "# Calculate the average test scores.\n",
    "per_school_math = school_data_complete_df.groupby([\"school_name\"]).mean()[\"math_score\"]\n",
    "per_school_reading = school_data_complete_df.groupby([\"school_name\"]).mean()[\"reading_score\"]\n",
    "#print(per_school_math)\n",
    "#print(per_school_reading)"
   ]
  },
  {
   "cell_type": "code",
   "execution_count": null,
   "id": "367d73c0-bf85-42e3-8b82-4cc177a4ae95",
   "metadata": {},
   "outputs": [],
   "source": [
    "# Calculate the passing scores by creating a filtered DataFrame.\n",
    "per_school_passing_math = school_data_complete_df[(school_data_complete_df[\"math_score\"] >= 70)]\n",
    "\n",
    "per_school_passing_reading = school_data_complete_df[(school_data_complete_df[\"reading_score\"] >= 70)]\n",
    "    "
   ]
  },
  {
   "cell_type": "code",
   "execution_count": null,
   "id": "4e811f55-d56f-479b-b4c9-de43295cf8c8",
   "metadata": {},
   "outputs": [],
   "source": [
    "# Calculate the passing scores by creating a filtered DataFrame.\n",
    "per_school_passing_math = school_data_complete_df[(school_data_complete_df[\"math_score\"] >= 70)]\n",
    "\n",
    "per_school_passing_reading = school_data_complete_df[(school_data_complete_df[\"reading_score\"] >= 70)]"
   ]
  },
  {
   "cell_type": "code",
   "execution_count": null,
   "id": "64b026cf-7730-43eb-8fd0-388e47fa48da",
   "metadata": {},
   "outputs": [],
   "source": [
    "# Calculate the number of students passing math and passing reading by school.\n",
    "per_school_passing_math = per_school_passing_math.groupby([\"school_name\"]).count()[\"student_name\"]\n",
    "per_school_passing_reading = per_school_passing_reading.groupby([\"school_name\"]).count()[\"student_name\"]\n",
    "#per_school_passing_math"
   ]
  },
  {
   "cell_type": "code",
   "execution_count": null,
   "id": "3a030499-a475-4dd3-8c8d-0fae3d00b87c",
   "metadata": {},
   "outputs": [],
   "source": [
    "# Calculate the percentage of passing math and reading scores per school.\n",
    "per_school_passing_math = per_school_passing_math / per_school_counts * 100\n",
    "per_school_passing_reading = per_school_passing_reading / per_school_counts * 100\n",
    "#per_school_passing_math"
   ]
  },
  {
   "cell_type": "code",
   "execution_count": null,
   "id": "a29cd858-642b-4bf3-b954-593a1539c7f7",
   "metadata": {},
   "outputs": [],
   "source": [
    "# Calculate the students who passed both math and reading.\n",
    "per_passing_math_reading = school_data_complete_df[(school_data_complete_df[\"math_score\"] >= 70) & (school_data_complete_df[\"reading_score\"] >= 70)]\n",
    "#per_passing_math_reading.head()"
   ]
  },
  {
   "cell_type": "code",
   "execution_count": null,
   "id": "91a83cbc-57a7-4f10-926f-de7e55f00e67",
   "metadata": {},
   "outputs": [],
   "source": [
    "# Calculate the number of students who passed both math and reading.\n",
    "per_passing_math_reading = per_passing_math_reading.groupby([\"school_name\"]).count()[\"student_name\"]"
   ]
  },
  {
   "cell_type": "code",
   "execution_count": null,
   "id": "3020a40c-e89a-435d-bcbe-a55a80c8be1b",
   "metadata": {},
   "outputs": [],
   "source": [
    "# Calculate the overall passing percentage.\n",
    "per_overall_passing_percentage = per_passing_math_reading / per_school_counts * 100"
   ]
  },
  {
   "cell_type": "code",
   "execution_count": null,
   "id": "138a168a-a60a-454c-9f1f-ff37346d7bca",
   "metadata": {},
   "outputs": [],
   "source": [
    "# Calculate the per capita spending.\n",
    "per_school_capita = per_school_budget / per_school_counts\n",
    "#per_school_capita"
   ]
  },
  {
   "cell_type": "code",
   "execution_count": null,
   "id": "af598661-8b68-4cb1-98c1-36d9ef4d47eb",
   "metadata": {},
   "outputs": [],
   "source": [
    "# Adding a list of values with keys to create a new DataFrame.\n",
    "per_school_summary_df = pd.DataFrame({\n",
    "             \"School Type\": per_school_types,\n",
    "             \"Total Students\": per_school_counts,\n",
    "             \"Total School Budget\": per_school_budget,\n",
    "             \"Per Student Budget\": per_school_capita,\n",
    "             \"Average Math Score\": per_school_math,\n",
    "           \"Average Reading Score\": per_school_reading,\n",
    "           \"% Passing Math\": per_school_passing_math,\n",
    "           \"% Passing Reading\": per_school_passing_reading,\n",
    "           \"% Overall Passing\": per_overall_passing_percentage})\n",
    "per_school_summary_df"
   ]
  },
  {
   "cell_type": "code",
   "execution_count": null,
   "id": "49b19e1d-94b4-4813-b85d-2a7c91b3441e",
   "metadata": {},
   "outputs": [],
   "source": [
    "# Format the Total School Budget and the Per Student Budget columns.\n",
    "per_school_summary_df[\"Total School Budget\"] = per_school_summary_df[\"Total School Budget\"].map(\"${:,.2f}\".format)\n",
    "\n",
    "per_school_summary_df[\"Per Student Budget\"] = per_school_summary_df[\"Per Student Budget\"].map(\"${:,.2f}\".format)\n",
    "# Display the data frame\n",
    "#per_school_summary_df.head()"
   ]
  },
  {
   "cell_type": "code",
   "execution_count": null,
   "id": "84ac174e-2419-4a43-85c2-3ac03ec8e5b5",
   "metadata": {},
   "outputs": [],
   "source": [
    "# Reorder the columns in the order you want them to appear.\n",
    "new_column_order = [\"School Type\", \"Total Students\", \"Total School Budget\", \"Per Student Budget\", \"Average Math Score\", \"Average Reading Score\", \"% Passing Math\", \"% Passing Reading\", \"% Overall Passing\"]\n",
    "\n",
    "# Assign district summary df the new column order.\n",
    "per_school_summary_df = per_school_summary_df[new_column_order]\n",
    "\n",
    "#per_school_summary_df.head()"
   ]
  },
  {
   "cell_type": "code",
   "execution_count": null,
   "id": "f1e2dfd0-1c30-47d5-8d59-4cadc525fbd5",
   "metadata": {
    "jupyter": {
     "source_hidden": true
    },
    "tags": []
   },
   "outputs": [],
   "source": [
    "# Establish the bins.\n",
    "size_bins = [0, 999, 1999, 5000]\n",
    "group_names = [\"Small (<1000)\", \"Medium (1000-1999)\", \"Large (2000-5000)\"]"
   ]
  },
  {
   "cell_type": "code",
   "execution_count": null,
   "id": "48da2d73-aab5-40d2-8c41-4a88af8b49e6",
   "metadata": {},
   "outputs": [],
   "source": [
    "# Combine the data into a single dataset\n",
    "school_data_complete_df = pd.merge(student_data_df, school_data_df, how=\"left\", on=[\"school_name\", \"school_name\"])\n",
    "school_data_complete_df.head()"
   ]
  },
  {
   "cell_type": "code",
   "execution_count": null,
   "id": "123bebbf-2d11-449f-b39d-b4a12a0830e1",
   "metadata": {},
   "outputs": [],
   "source": [
    "# Step 2. Use the loc method on the student_data_df to select all the reading scores from the 9th grade at Thomas High School and replace them with NaN.\n",
    "thomas_high_df = student_data_df.loc[student_data_df[\"school_name\"] == \"Thomas High School\", [\"Student ID\",\"student_name\",\"grade\",\"school_name\",\"gender\",\"math_score\",\"reading_score\"]]\n",
    "\n",
    "thomas_high_df.head(20)"
   ]
  },
  {
   "cell_type": "code",
   "execution_count": null,
   "id": "8aa77a84-6d9b-4880-9b2c-04a254dbbd15",
   "metadata": {},
   "outputs": [],
   "source": [
    "#Step 2\n",
    "thomas_high_df.loc[thomas_high_df.grade == \"9th\", 'reading_score']='NaN'\n",
    "thomas_high_df"
   ]
  },
  {
   "cell_type": "code",
   "execution_count": null,
   "id": "9317a365-7e6a-4ca7-aaba-fa175aa0bf7e",
   "metadata": {},
   "outputs": [],
   "source": [
    "#STEP 3 In Step 3, refactor the code from Step 2 to replace the math scores with NaNs.\n",
    "thomas_high_df.loc[thomas_high_df.grade == \"9th\", 'math_score']='NaN'\n",
    "thomas_high_df"
   ]
  },
  {
   "cell_type": "code",
   "execution_count": null,
   "id": "8b7bb283-5960-4c4e-90dc-6884280c1c52",
   "metadata": {},
   "outputs": [],
   "source": [
    "## In Step 4, check the student data to make sure the grades were replaced with NaNs.\n",
    "thomas_high_df = thomas_high_df.loc[thomas_high_df[\"grade\"] == \"9th\", [\"Student ID\",\"student_name\",\"grade\",\"school_name\",\"gender\",\"math_score\",\"reading_score\"]]\n",
    "thomas_high_df.head(20)"
   ]
  },
  {
   "cell_type": "code",
   "execution_count": null,
   "id": "63d676cf-9ccd-422d-85c9-4ca0d6c9ae6c",
   "metadata": {},
   "outputs": [],
   "source": [
    "# Deliverable 2, step 1\n",
    "new_student_df = school_data_complete_df.loc[(school_data_complete_df[\"school_name\"] == \"Thomas High School\") & (school_data_complete_df[\"grade\"] == \"9th\"), [\"Student ID\",\"student_name\",\"grade\",\"school_name\",\"gender\",\"math_score\",\"reading_score\"]]\n",
    "\n",
    "#Student Count for Thomas High School 9th Graders\n",
    "print(len(new_student_df))\n",
    "new_student_df"
   ]
  },
  {
   "cell_type": "code",
   "execution_count": null,
   "id": "c6e8a20b-8bab-4286-9183-9b7ce9aacf1e",
   "metadata": {},
   "outputs": [],
   "source": [
    "#Total Student Count in Thomas HS\n",
    "print(len(school_data_complete_df))\n",
    "\n",
    "#Student Count of all 9th Graders in THomas HS\n",
    "print(len(new_student_df))"
   ]
  },
  {
   "cell_type": "code",
   "execution_count": null,
   "id": "bf71de57-8ec8-4f90-9825-3dabae944b7c",
   "metadata": {},
   "outputs": [],
   "source": [
    "##subtract the number of students retrieved from Step 1 from the total student count to get the new total student count.\n",
    "new_total_student_count = (len(school_data_complete_df)) - (len(new_student_df))\n",
    "#print(new_total_student_count)"
   ]
  },
  {
   "cell_type": "code",
   "execution_count": null,
   "id": "bcf7d524-77a6-493c-8bec-67070e12a4d0",
   "metadata": {},
   "outputs": [],
   "source": [
    "# Adding a list of values with keys to create a new DataFrame.\n",
    "new_total_student_count_df= pd.DataFrame(\n",
    "          [{\"Total Schools\": school_count,\n",
    "          \"Total Students\": student_count,\n",
    "          \"Total Budget\": total_budget,\n",
    "          \"Average Math Score\": average_math_score,\n",
    "          \"Average Reading Score\": average_reading_score,\n",
    "          \"% Passing Math\": passing_math_percentage,\n",
    "         \"% Passing Reading\": passing_reading_percentage,\n",
    "        \"% Overall Passing\": overall_passing_percentage}])\n",
    "new_total_student_count_df"
   ]
  },
  {
   "cell_type": "code",
   "execution_count": null,
   "id": "5e2bdca8-2874-43c9-9b8a-df362047a02d",
   "metadata": {},
   "outputs": [],
   "source": [
    "##Formatting the columns\n",
    "new_total_student_count_df[\"Total Students\"] = new_total_student_count_df[\"Total Students\"].map(\"{:,}\".format)\n",
    "new_total_student_count_df[\"Total Budget\"] = new_total_student_count_df[\"Total Budget\"].map(\"${:,.2f}\".format)\n",
    "new_total_student_count_df[\"Average Math Score\"] = new_total_student_count_df[\"Average Math Score\"].map(\"{:.1f}\".format)\n",
    "new_total_student_count_df[\"Average Reading Score\"] = new_total_student_count_df[\"Average Reading Score\"].map(\"{:.1f}\".format)\n",
    "new_total_student_count_df[\"% Passing Math\"] = new_total_student_count_df[\"% Passing Math\"].map(\"{:.1f}\".format)\n",
    "new_total_student_count_df[\"% Passing Reading\"] = new_total_student_count_df[\"% Passing Reading\"].map(\"{:.1f}\".format)\n",
    "new_total_student_count_df[\"% Overall Passing\"] = new_total_student_count_df[\"% Overall Passing\"].map(\"{:.1f}\".format)"
   ]
  },
  {
   "cell_type": "code",
   "execution_count": null,
   "id": "41f61a84-1732-4c7d-979f-99b57fb94740",
   "metadata": {},
   "outputs": [],
   "source": [
    "# Create the DataFrame\n",
    "per_school_summary_df = pd.DataFrame({\n",
    "    \"School Type\": per_school_types,\n",
    "    \"Total Students\": per_school_counts,\n",
    "    \"Total School Budget\": per_school_budget,\n",
    "    \"Per Student Budget\": per_school_capita,\n",
    "    \"Average Math Score\": per_school_math,\n",
    "    \"Average Reading Score\": per_school_reading,\n",
    "    \"% Passing Math\": per_school_passing_math,\n",
    "    \"% Passing Reading\": per_school_passing_reading,\n",
    "    \"% Overall Passing\": per_overall_passing_percentage})\n",
    "per_school_summary_df"
   ]
  },
  {
   "cell_type": "code",
   "execution_count": null,
   "id": "5361b0f0-386d-4889-8f8e-32e8c05df379",
   "metadata": {},
   "outputs": [],
   "source": [
    "# Create the DataFrame\n",
    "new_student_total_df = pd.DataFrame({\n",
    "    \"School Type\": per_school_types,\n",
    "    \"Total Students\": per_school_counts,\n",
    "    \"Total School Budget\": per_school_budget,\n",
    "    \"Per Student Budget\": per_school_capita,\n",
    "    \"Average Math Score\": per_school_math,\n",
    "    \"Average Reading Score\": per_school_reading,\n",
    "    \"% Passing Math\": per_school_passing_math,\n",
    "    \"% Passing Reading\": per_school_passing_reading,\n",
    "    \"% Overall Passing\": per_overall_passing_percentage})\n",
    "\n",
    "#new_student_total_df"
   ]
  },
  {
   "cell_type": "code",
   "execution_count": null,
   "id": "c4c7c5ca-9122-4f62-ba77-3b856772d96f",
   "metadata": {},
   "outputs": [],
   "source": [
    "#STEP 6 Students passing math from Thomas HS\n",
    "\n",
    "students_passing_math_df = school_data_complete_df.loc[(school_data_complete_df[\"school_name\"] == \"Thomas High School\") & (school_data_complete_df[\"math_score\"] >= 70),\n",
    "                        [\"Student ID\",\"student_name\",\"grade\",\"school_name\",\"gender\",\"math_score\",\"reading_score\"]]\n",
    "len(students_passing_math_df)\n"
   ]
  },
  {
   "cell_type": "code",
   "execution_count": null,
   "id": "ca10f601-30f2-4d58-9c3b-7a3010b6d4dc",
   "metadata": {},
   "outputs": [],
   "source": [
    "#STEP 7 Students passing READING from Thomas HS\n",
    "\n",
    "students_passing_reading_df = school_data_complete_df.loc[(school_data_complete_df[\"school_name\"] == \"Thomas High School\") & (school_data_complete_df[\"reading_score\"] >= 70),\n",
    "                        [\"Student ID\",\"student_name\",\"grade\",\"school_name\",\"gender\",\"math_score\",\"reading_score\"]]\n",
    "students_passing_reading_df"
   ]
  },
  {
   "cell_type": "code",
   "execution_count": null,
   "id": "5ee5db54-87e4-45c3-9d57-b9a045f28323",
   "metadata": {},
   "outputs": [],
   "source": [
    "## Step 8, use the loc method to create a new DataFrame that has all the students passing math and reading from Thomas HS\n",
    "\n",
    "students_passing_both_df = school_data_complete_df.loc[(school_data_complete_df[\"school_name\"] == \"Thomas High School\") & \n",
    "                            (school_data_complete_df[\"reading_score\"] >= 70) & (school_data_complete_df[\"math_score\"] >= 70),\n",
    "                        [\"Student ID\",\"student_name\",\"grade\",\"school_name\",\"gender\",\"math_score\",\"reading_score\"]]\n",
    "students_passing_both_df"
   ]
  },
  {
   "cell_type": "code",
   "execution_count": null,
   "id": "39093102-0a2c-4f14-b7e5-cd4fe7c03988",
   "metadata": {},
   "outputs": [],
   "source": [
    "print(len(students_passing_math_df))\n",
    "print(len(students_passing_reading_df))\n",
    "print(len(students_passing_both_df))"
   ]
  },
  {
   "cell_type": "code",
   "execution_count": null,
   "id": "5f3d6edd-0fc6-4b55-86a1-2468ea4a1a0b",
   "metadata": {},
   "outputs": [],
   "source": [
    "upperclass_passing_math = students_passing_math_df.loc[(students_passing_math_df[\"grade\"] != \"9th\"), [\"Student ID\",\"student_name\",\"grade\",\"school_name\",\"gender\",\"math_score\",\"reading_score\"]]\n",
    "#upperclass_passing_math"
   ]
  },
  {
   "cell_type": "code",
   "execution_count": null,
   "id": "854c2df9-8345-4ee9-a903-236aca5005a5",
   "metadata": {},
   "outputs": [],
   "source": [
    "upperclass_passing_math = students_passing_math_df[(students_passing_math_df[\"grade\"] != \"9th\")]\n",
    "#upperclass_passing_math"
   ]
  },
  {
   "cell_type": "code",
   "execution_count": null,
   "id": "d1f15e31-c22e-476c-b7db-beb1369d84e7",
   "metadata": {},
   "outputs": [],
   "source": [
    "print(len(upperclass_passing_math))"
   ]
  },
  {
   "cell_type": "code",
   "execution_count": null,
   "id": "004f69f5-5780-492e-8461-d90f656a7ddc",
   "metadata": {},
   "outputs": [],
   "source": [
    "#Calculate the toal amount of 10th - 12th grader\n",
    "total_upperclassman  = school_data_complete_df.loc[(school_data_complete_df[\"school_name\"] == \"Thomas High School\") & (school_data_complete_df[\"grade\"] != \"9th\"),\n",
    "                        [\"Student ID\",\"student_name\",\"grade\",\"school_name\",\"gender\",\"math_score\",\"reading_score\"]]\n",
    "\n",
    "#total_upperclassman"
   ]
  },
  {
   "cell_type": "code",
   "execution_count": null,
   "id": "1a069a5d-d021-4d69-9c12-3a50e854bc24",
   "metadata": {},
   "outputs": [],
   "source": [
    "#Calculate the total amount of 10th - 12th grader\n",
    "total_upperclassman  = school_data_complete_df[(school_data_complete_df[\"school_name\"] == \"Thomas High School\") & (school_data_complete_df[\"grade\"] != \"9th\")]\n",
    "\n",
    "len(total_upperclassman)"
   ]
  },
  {
   "cell_type": "code",
   "execution_count": null,
   "id": "e92d841c-f1ca-4bfa-a909-da816b40ab24",
   "metadata": {},
   "outputs": [],
   "source": [
    "## Step 9, calculate the percentage of 10th-12th grade students passing math from Thomas High School.\n",
    "\n",
    "# Calculate the overall passing percentage.\n",
    "upperclassman_passing_math_percentage = len(upperclass_passing_math) / len(total_upperclassman) * 100\n",
    "upperclassman_passing_math_percentage "
   ]
  },
  {
   "cell_type": "code",
   "execution_count": null,
   "id": "6da6b0da-440a-4822-98ba-c9c35fb4bf5b",
   "metadata": {},
   "outputs": [],
   "source": [
    "upperclass_passing_reading = students_passing_reading_df[(students_passing_reading_df[\"grade\"] != \"9th\")]\n",
    "len(upperclass_passing_reading)"
   ]
  },
  {
   "cell_type": "code",
   "execution_count": null,
   "id": "38595a75-cc60-41c4-8cf7-453de8039b18",
   "metadata": {},
   "outputs": [],
   "source": [
    " ## Step 10, calculate the percentage of 10th-12th grade students passing reading from Thomas High School.\n",
    "# Calculate the overall passing percentage.\n",
    "upperclassman_passing_reading_percentage = len(upperclass_passing_reading) / len(total_upperclassman) * 100\n",
    "upperclassman_passing_reading_percentage "
   ]
  },
  {
   "cell_type": "code",
   "execution_count": null,
   "id": "7e2a4a77-1aec-429e-b970-aea8acfff58d",
   "metadata": {},
   "outputs": [],
   "source": [
    "#Step 11, calculate the overall passing percentage of 10th-12th grade students from Thomas High School.\n",
    "upperclassman_passing_both = school_data_complete_df.loc[(school_data_complete_df[\"school_name\"] == \"Thomas High School\") & (school_data_complete_df[\"grade\"] != \"9th\") &\n",
    "                            (school_data_complete_df[\"reading_score\"] >= 70) & (school_data_complete_df[\"math_score\"] >= 70),\n",
    "                        [\"Student ID\",\"student_name\",\"grade\",\"school_name\",\"gender\",\"math_score\",\"reading_score\"]]\n",
    "upperclassman_passing_both"
   ]
  },
  {
   "cell_type": "code",
   "execution_count": null,
   "id": "49a296b2-ccb9-40e9-9fc7-9fd71242f5c5",
   "metadata": {},
   "outputs": [],
   "source": [
    "#STEP 11\n",
    "upperclassman_passing_both_percentage = len(upperclassman_passing_both) / len(total_upperclassman) * 100\n",
    "upperclassman_passing_both_percentage"
   ]
  },
  {
   "cell_type": "code",
   "execution_count": null,
   "id": "6d5f5550-5fd0-4e3a-af94-8420b771dcc1",
   "metadata": {},
   "outputs": [],
   "source": [
    "# ALL Students passing Math at Thomas HS\n",
    "len(students_passing_math_df)"
   ]
  },
  {
   "cell_type": "code",
   "execution_count": null,
   "id": "07a0309b-4b4b-42ab-8662-923c5cea9607",
   "metadata": {},
   "outputs": [],
   "source": [
    "## Step 12, use the loc method to replace the % Passing Math score for Thomas High School with the new math passing percentage you calculated in Step 9.\n",
    "\n",
    "students_passing_math_df = upperclass_passing_math.loc[(school_data_complete_df[\"school_name\"] == \"Thomas High School\") & (school_data_complete_df[\"grade\"] != \"9th\") & (school_data_complete_df[\"math_score\"] >= 70), \n",
    "[\"Student ID\",\"student_name\",\"grade\",\"school_name\",\"gender\",\"math_score\",\"reading_score\"]]\n",
    "\n",
    "students_passing_math_df"
   ]
  },
  {
   "cell_type": "code",
   "execution_count": null,
   "id": "6be4a5db-7d2b-461c-a367-bf767163c1f7",
   "metadata": {},
   "outputs": [],
   "source": [
    "## In Step 13, use the loc method to replace the % Passing Reading score for Thomas High School with the new reading passing percentage you calculated in Step 10.\n",
    "students_passing_reading_df = upperclass_passing_reading.loc[(school_data_complete_df[\"school_name\"] == \"Thomas High School\") & (school_data_complete_df[\"grade\"] != \"9th\") & (school_data_complete_df[\"reading_score\"] >= 70), \n",
    "[\"Student ID\",\"student_name\",\"grade\",\"school_name\",\"gender\",\"math_score\",\"reading_score\"]]\n",
    "\n",
    "students_passing_reading_df"
   ]
  },
  {
   "cell_type": "code",
   "execution_count": null,
   "id": "e4b2d4b8-95e3-4b50-ae34-89dfb7a850bb",
   "metadata": {},
   "outputs": [],
   "source": [
    "## In Step 14, use the loc method to replace the % Overall Passing score for Thomas High School with the new overall passing percentage you calculated in Step 11.\n",
    "students_passing_both_df = school_data_complete_df.loc[(school_data_complete_df[\"school_name\"] == \"Thomas High School\") & (school_data_complete_df[\"grade\"] != \"9th\") &\n",
    "                            (school_data_complete_df[\"reading_score\"] >= 70) & (school_data_complete_df[\"math_score\"] >= 70),\n",
    "                        [\"Student ID\",\"student_name\",\"grade\",\"school_name\",\"gender\",\"math_score\",\"reading_score\"]]\n",
    "students_passing_both_df"
   ]
  },
  {
   "cell_type": "code",
   "execution_count": null,
   "id": "7bed819a-f3bd-4586-a266-d153da45b6b1",
   "metadata": {},
   "outputs": [],
   "source": [
    "# Calculate the average math score.\n",
    "average_math_score = total_upperclassman[\"math_score\"].mean()\n",
    "#average_math_score"
   ]
  },
  {
   "cell_type": "code",
   "execution_count": null,
   "id": "06273492-01b0-4be2-bd7f-3dfd7029b1df",
   "metadata": {},
   "outputs": [],
   "source": [
    "# Calculate the average reading score.\n",
    "average_reading_score = total_upperclassman[\"reading_score\"].mean()\n",
    "#average_reading_score"
   ]
  },
  {
   "cell_type": "code",
   "execution_count": null,
   "id": "e7b8e5c7-4e62-4647-b21f-fd942994d813",
   "metadata": {},
   "outputs": [],
   "source": [
    "##Formatting the columns\n",
    "per_school_summary_df[\"Total Students\"] = per_school_summary_df[\"Total Students\"].map(\"{:,}\".format)\n",
    "per_school_summary_df[\"Total School Budget\"] = per_school_summary_df[\"Total School Budget\"].map(\"${:,.2f}\".format)\n",
    "per_school_summary_df[\"Per Student Budget\"] = per_school_summary_df[\"Per Student Budget\"].map(\"${:,.2f}\".format)\n",
    "#per_school_summary_df[\"Average Math Score\"] = per_school_summary_df[\"Average Math Score\"].map(\"{:.1f}\".format)\n",
    "#per_school_summary_df[\"Average Reading Score\"] = per_school_summary_df[\"Average Reading Score\"].map(\"{:.1f}\".format)\n",
    "#per_school_summary_df[\"% Passing Math\"] = per_school_summary_df[\"% Passing Math\"].map(\"{:.1f}\".format)\n",
    "#per_school_summary_df[\"% Passing Reading\"] = per_school_summary_df[\"% Passing Reading\"].map(\"{:.1f}\".format)\n",
    "#per_school_summary_df[\"% Overall Passing\"] = per_school_summary_df[\"% Overall Passing\"].map(\"{:.1f}\".format)"
   ]
  },
  {
   "cell_type": "code",
   "execution_count": null,
   "id": "e7714973-3690-415c-9a51-ab0ca352f8d4",
   "metadata": {},
   "outputs": [],
   "source": [
    "per_school_summary_df.at[\"Thomas High School\",'% Overall Passing'] = upperclassman_passing_both_percentage\n",
    "per_school_summary_df.at[\"Thomas High School\", '% Passing Math'] = upperclassman_passing_math_percentage \n",
    "per_school_summary_df.at[\"Thomas High School\", '% Passing Reading'] = upperclassman_passing_reading_percentage \n",
    "per_school_summary_df.at[\"Thomas High School\", 'Average Math Score']=average_math_score\n",
    "per_school_summary_df.at[\"Thomas High School\", 'Average Reading Score'] =average_reading_score"
   ]
  },
  {
   "cell_type": "code",
   "execution_count": null,
   "id": "39421049-bf90-464d-af8f-18c948b87782",
   "metadata": {},
   "outputs": [],
   "source": [
    "per_school_summary_df"
   ]
  },
  {
   "cell_type": "code",
   "execution_count": null,
   "id": "9585188e-8304-4584-9f85-f8a20a7056b7",
   "metadata": {},
   "outputs": [],
   "source": [
    "# # Calculate the average math score.\n",
    "# #average_math_score = school_data_complete_df[\"math_score\"].mean()\n",
    "# average_math_score = total_upperclassman[\"math_score\"].mean()\n",
    "# average_math_score"
   ]
  },
  {
   "cell_type": "code",
   "execution_count": null,
   "id": "8a64cd17-2122-423a-a414-9f0d30e1490c",
   "metadata": {},
   "outputs": [],
   "source": [
    "# Sort and show bottom five schools based on performance\n",
    "bottom_schools = per_school_summary_df.sort_values([\"% Overall Passing\"], ascending=True)\n",
    "bottom_schools.head()"
   ]
  },
  {
   "cell_type": "code",
   "execution_count": null,
   "id": "05f6990a-dd1e-4c8b-a407-c3911d340840",
   "metadata": {},
   "outputs": [],
   "source": [
    "# Sort and show top five schools based on performance\n",
    "top_schools = per_school_summary_df.sort_values([\"% Overall Passing\"], ascending=False)\n",
    "top_schools.head()"
   ]
  },
  {
   "cell_type": "code",
   "execution_count": null,
   "id": "f46a2c8d-d8a0-4c17-8e37-979b100e518b",
   "metadata": {},
   "outputs": [],
   "source": [
    "# Create a grade level DataFrames.\n",
    "ninth_graders = school_data_complete_df[(school_data_complete_df[\"grade\"] == \"9th\")]\n",
    "\n",
    "tenth_graders = school_data_complete_df[(school_data_complete_df[\"grade\"] == \"10th\")]\n",
    "\n",
    "eleventh_graders = school_data_complete_df[(school_data_complete_df[\"grade\"] == \"11th\")]\n",
    "\n",
    "twelfth_graders = school_data_complete_df[(school_data_complete_df[\"grade\"] == \"12th\")]\n"
   ]
  },
  {
   "cell_type": "code",
   "execution_count": null,
   "id": "5c8b1252-ab07-42ce-a1cd-77dd8105daed",
   "metadata": {},
   "outputs": [],
   "source": [
    "# Group each grade level DataFrame by the school name for the average math score.\n",
    "ninth_grade_math_scores = ninth_graders.groupby([\"school_name\"]).mean()[\"math_score\"]\n",
    "\n",
    "tenth_grade_math_scores = tenth_graders.groupby([\"school_name\"]).mean()[\"math_score\"]\n",
    "\n",
    "eleventh_grade_math_scores = eleventh_graders.groupby([\"school_name\"]).mean()[\"math_score\"]\n",
    "\n",
    "twelfth_grade_math_scores = twelfth_graders.groupby([\"school_name\"]).mean()[\"math_score\"]"
   ]
  },
  {
   "cell_type": "code",
   "execution_count": null,
   "id": "80623f4d-ccc7-4ce9-8fbd-be279a7d4d52",
   "metadata": {},
   "outputs": [],
   "source": [
    "ninth_grade_math_scores"
   ]
  },
  {
   "cell_type": "code",
   "execution_count": null,
   "id": "ded4fe35-e147-44f5-9347-9a487ae64dac",
   "metadata": {},
   "outputs": [],
   "source": [
    "tenth_grade_math_scores "
   ]
  },
  {
   "cell_type": "code",
   "execution_count": null,
   "id": "b52fd864-e7b3-4d5f-b244-e236ade8a2ab",
   "metadata": {},
   "outputs": [],
   "source": [
    "eleventh_grade_math_scores "
   ]
  },
  {
   "cell_type": "code",
   "execution_count": null,
   "id": "d3148977-098a-4a9e-8cad-72d1987bd881",
   "metadata": {},
   "outputs": [],
   "source": [
    "twelfth_grade_math_scores "
   ]
  },
  {
   "cell_type": "code",
   "execution_count": null,
   "id": "cc792a5f-629f-4ce4-9d59-d7a27e5f6fc7",
   "metadata": {},
   "outputs": [],
   "source": [
    "# Calculate the total student count.\n",
    "per_school_counts = school_data_complete_df.groupby([\"school_name\"])[\"size\"]\n",
    "#per_school_counts.head()\n"
   ]
  },
  {
   "cell_type": "code",
   "execution_count": null,
   "id": "e419529d-1e75-4388-b5d9-e7e8c6c8565c",
   "metadata": {},
   "outputs": [],
   "source": [
    "#school_data_complete_df"
   ]
  },
  {
   "cell_type": "code",
   "execution_count": null,
   "id": "ba8e42a4-b22d-4f41-a5b8-e0e91e49b3ca",
   "metadata": {},
   "outputs": [],
   "source": [
    "# Sort and show top schools by spending per student\n",
    "top_schools_by_spending = per_school_summary_df.sort_values([\"Per Student Budget\"])\n",
    "top_schools_by_spending"
   ]
  },
  {
   "cell_type": "code",
   "execution_count": null,
   "id": "b91bde9d-055b-4f34-8ca2-9880244d271d",
   "metadata": {},
   "outputs": [],
   "source": [
    "# Sort and show top schools by size: Total Students\n",
    "top_schools_by_size = top_schools_by_spending.sort_values([\"Total Students\"])\n",
    "top_schools_by_size"
   ]
  },
  {
   "cell_type": "code",
   "execution_count": null,
   "id": "19eb6c3f-9637-41c6-bf9a-afeb2ece57cd",
   "metadata": {},
   "outputs": [],
   "source": [
    "# Sort schools by School Type\n",
    "top_schools_by_type = top_schools_by_size.sort_values([\"School Type\"], ascending=False)\n",
    "\n",
    "top_schools_by_type"
   ]
  },
  {
   "cell_type": "code",
   "execution_count": null,
   "id": "94d2050d-91e0-4ce7-ad74-93a8aadc7947",
   "metadata": {},
   "outputs": [],
   "source": []
  },
  {
   "cell_type": "code",
   "execution_count": null,
   "id": "b1ab8140-2a63-4cec-a684-624d77cba46e",
   "metadata": {},
   "outputs": [],
   "source": []
  },
  {
   "cell_type": "code",
   "execution_count": null,
   "id": "970b7c67-ac15-469e-bd98-74eedb6dc53e",
   "metadata": {},
   "outputs": [],
   "source": []
  },
  {
   "cell_type": "code",
   "execution_count": null,
   "id": "5758ac0e-15a2-4b63-8672-ed3289f04985",
   "metadata": {},
   "outputs": [],
   "source": []
  },
  {
   "cell_type": "code",
   "execution_count": null,
   "id": "b50dc5c5-4379-478b-b965-dbee2408bff0",
   "metadata": {},
   "outputs": [],
   "source": []
  },
  {
   "cell_type": "code",
   "execution_count": null,
   "id": "c93918d2-d8f3-4866-ac1c-80d185c60bd7",
   "metadata": {},
   "outputs": [],
   "source": []
  },
  {
   "cell_type": "code",
   "execution_count": null,
   "id": "150d558a-c403-40a5-9c9e-3963a3e23fa4",
   "metadata": {},
   "outputs": [],
   "source": []
  },
  {
   "cell_type": "code",
   "execution_count": null,
   "id": "3026602c-bf2b-46c9-9a0b-a62981280e41",
   "metadata": {},
   "outputs": [],
   "source": []
  }
 ],
 "metadata": {
  "kernelspec": {
   "display_name": "PythonData",
   "language": "python",
   "name": "pythondata"
  },
  "language_info": {
   "codemirror_mode": {
    "name": "ipython",
    "version": 3
   },
   "file_extension": ".py",
   "mimetype": "text/x-python",
   "name": "python",
   "nbconvert_exporter": "python",
   "pygments_lexer": "ipython3",
   "version": "3.7.13"
  }
 },
 "nbformat": 4,
 "nbformat_minor": 5
}
